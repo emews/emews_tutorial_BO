{
 "cells": [
  {
   "cell_type": "code",
   "execution_count": 1,
   "metadata": {},
   "outputs": [],
   "source": [
    "%load_ext autoreload\n",
    "%autoreload 2 \n",
    "\n",
    "import numpy as np\n",
    "from matplotlib import pyplot as plt\n",
    "import seaborn as sns\n",
    "from scipy.stats import multivariate_normal as mvn\n",
    "from hetgpy import homGP, hetGP\n",
    "import pandas as pd\n",
    "import yaml\n",
    "from typing import Dict\n",
    "import json\n",
    "from collections import Counter, defaultdict\n",
    "\n",
    "from helpers import *\n",
    "\n",
    "from eqsql import worker_pool, db_tools, cfg\n",
    "from eqsql.task_queues import local_queue"
   ]
  },
  {
   "cell_type": "markdown",
   "metadata": {},
   "source": [
    "#### Setup EMEWS DB"
   ]
  },
  {
   "cell_type": "code",
   "execution_count": 2,
   "metadata": {},
   "outputs": [
    {
     "name": "stdout",
     "output_type": "stream",
     "text": [
      "Checking for pg_ctl ...\n",
      "/Users/abbystevens/miniconda3/envs/emews-py3.10/bin/pg_ctl\n",
      "\n",
      "\n",
      "Stopping database server\n",
      "\n",
      "waiting for server to shut down.... done\n",
      "server stopped\n",
      "\n",
      "Checking for pg_ctl ...\n",
      "/Users/abbystevens/miniconda3/envs/emews-py3.10/bin/pg_ctl\n",
      "\n",
      "\n",
      "Starting database with log:/Users/abbystevens/Documents/db/emews_db/db.log\n",
      "Database server started\n"
     ]
    }
   ],
   "source": [
    "\n",
    "config_file = \"./algo_cfg.yaml\"\n",
    "params = cfg.parse_yaml_cfg(config_file)\n",
    "\n",
    "exp_id = 1\n",
    "# start database\n",
    "db_tools.stop_db(params['db_path'])\n",
    "db_tools.start_db(params['db_path'], pg_bin_path=params['pg_bin_path'])\n",
    "db_started = True\n",
    "\n",
    "# start local task queue\n",
    "task_queue = local_queue.init_task_queue(params['db_host'], params['db_user'],\n",
    "                                            port=None, db_name=params['db_name'])\n",
    "\n",
    "# check if the input and output queues are empty,\n",
    "# if not, then exit with a warning.\n",
    "if not task_queue.are_queues_empty():\n",
    "    print(\"WARNING: db input / output queues are not empty. Aborting run\", flush=True)\n",
    "    task_queue.clear_queues()"
   ]
  },
  {
   "cell_type": "markdown",
   "metadata": {},
   "source": [
    "#### Generate grid and initial sample"
   ]
  },
  {
   "cell_type": "code",
   "execution_count": 3,
   "metadata": {},
   "outputs": [],
   "source": [
    "# set up grid\n",
    "xx = np.linspace(0, 1, 30)\n",
    "Xgrid = np.array(np.meshgrid(xx, xx)).T.reshape(-1, 2)\n",
    "Xgrid_native = to_native(Xgrid, lb=np.array([0.1, 1]), ub=np.array([1, 3]))\n",
    "\n",
    "# generate some seeds\n",
    "seeds = np.random.choice(100, 20, replace=False)\n",
    "\n",
    "# budget\n",
    "budget = 50\n",
    "nts = 10 #number of new points per thompson sample\n",
    "\n",
    "# initialize \n",
    "init_ids = [217, 233, 465, 697, 713]\n",
    "init_reps = 3\n",
    "init_ids = {x:init_reps for x in init_ids}\n",
    "budget -= len(init_ids)*init_reps\n",
    "\n",
    "init_seeds = seeds[:init_reps]\n",
    "id_counter = Counter()\n",
    "\n",
    "X, Xnative = generate_inputs(Xgrid, init_ids, id_counter, seeds)"
   ]
  },
  {
   "cell_type": "markdown",
   "metadata": {},
   "source": [
    "#### Submit initial payload to run simulations on initially selected points"
   ]
  },
  {
   "cell_type": "code",
   "execution_count": 5,
   "metadata": {},
   "outputs": [],
   "source": [
    "# start worker pool\n",
    "pool_params = worker_pool.cfg_file_to_dict(params['pool_cfg_file'])\n",
    "pool = worker_pool.start_local_pool(params['worker_pool_id'], params['pool_launch_script'],\n",
    "                                    exp_id, pool_params)\n",
    "task_type = params['task_type']\n",
    "\n",
    "# run initial simulations\n",
    "payloads = list(map(lambda a: json.dumps(list(a)), Xnative))\n",
    "_, fts = task_queue.submit_tasks(exp_id, task_type, payloads)\n",
    "\n",
    "sorted_fts = sorted(task_queue.as_completed(fts), key=lambda ft: ft.eq_task_id)\n",
    "Y = np.array([json.loads(ft.result()[1]) for ft in sorted_fts])\n"
   ]
  },
  {
   "cell_type": "markdown",
   "metadata": {},
   "source": [
    "#### Fit GP on initial sample"
   ]
  },
  {
   "cell_type": "code",
   "execution_count": 6,
   "metadata": {},
   "outputs": [
    {
     "name": "stdout",
     "output_type": "stream",
     "text": [
      "Homoskedastic model has higher log-likelihood: \n",
      " -9.133986703125014  compared to  -9.203376027773562 \n",
      "\n",
      "Return homoskedastic model \n",
      "\n"
     ]
    },
    {
     "data": {
      "image/png": "[encoded data removed]",
      "text/plain": [
       "<Figure size 400x300 with 2 Axes>"
      ]
     },
     "metadata": {},
     "output_type": "display_data"
    }
   ],
   "source": [
    "# normalizing Y for numerical stability\n",
    "Y = np.log(Y)\n",
    "ymean, ystd = Y.mean(), Y.std()\n",
    "Y = (Y-ymean)/ystd\n",
    "\n",
    "gp = hetGP()\n",
    "gp.mle(X, Y, covtype='Matern5_2', upper=np.array([100, 100]), init={'g_bounds':[1e-6, .1]})\n",
    "\n",
    "plot_gp_mean(gp, Xgrid, X, ymean, ystd, title='Initial design')"
   ]
  },
  {
   "cell_type": "markdown",
   "metadata": {},
   "source": [
    "#### Initial Thompson Sample"
   ]
  },
  {
   "cell_type": "code",
   "execution_count": 7,
   "metadata": {},
   "outputs": [
    {
     "name": "stdout",
     "output_type": "stream",
     "text": [
      "58.151357889175415\n"
     ]
    }
   ],
   "source": [
    "import time\n",
    "t0 = time.time()\n",
    "best_ids = Counter(TS_npoints_replicates(gp, min(nts,budget), Xgrid))\n",
    "print(time.time() - t0)\n"
   ]
  },
  {
   "cell_type": "markdown",
   "metadata": {},
   "source": [
    "#### Keep sampling til budget is spent"
   ]
  },
  {
   "cell_type": "code",
   "execution_count": null,
   "metadata": {},
   "outputs": [],
   "source": [
    "i = 1\n",
    "while budget > 0:\n",
    "    # thompson sample for best locations\n",
    "    #best_ids = Counter(TS_npoints_replicates(gp, min(nts,budget), Xgrid))\n",
    "    #budget -= nts\n",
    "    \n",
    "    # get new runs and combine\n",
    "    Xnew_native = []\n",
    "    Xnew = []\n",
    "    for ix, cnt in best_ids.items():\n",
    "        start = id_counter[ix]\n",
    "        end = id_counter[ix] + cnt\n",
    "        Xt, Xt_native = generate_inputs(Xgrid, best_ids, id_counter, seeds)\n",
    "        Xnew.append(Xt)\n",
    "        Xnew_native.append(Xt_native)\n",
    "    Xnew = np.vstack(Xnew)\n",
    "    Xnew_native = np.vstack(Xnew_native)\n",
    "    payloads = list(map(lambda a: json.dumps(list(a)), Xnew_native))\n",
    "    _, fts = task_queue.submit_tasks(exp_id, task_type, payloads)\n",
    "    sorted_fts = sorted(task_queue.as_completed(fts), key=lambda ft: ft.eq_task_id)\n",
    "    Ynew = np.array([json.loads(ft.result()[1]) for ft in sorted_fts])\n",
    "    # scale outputs\n",
    "    Ynew = np.log(Ynew)\n",
    "    Ynew = (Ynew - ymean)/ystd\n",
    "\n",
    "    X = np.vstack([X, Xnew])\n",
    "    Y = np.concatenate([Y, Ynew])\n",
    "\n",
    "    Xnative = to_native(X, lb=np.array([0.1, 1]), ub=np.array([1, 3]))\n",
    "    Ynative = Ynative = np.exp(Y*ystd + ymean)\n",
    "    best_ix = np.argmax(Ynative)\n",
    "    print(f\"After iteration {i}, we found that {round(Ynative[best_ix])} humans can survive at zombie_step_size = {round(Xnative[best_ix, 0],2)}, human_step_size = {Xnative[best_ix, 1]}\")\n",
    "    gp = hetGP()\n",
    "    gp.mle(X, Y, covtype='Matern5_2', upper=np.array([100, 100]), \n",
    "           init={'g_bounds':[1e-6, .1]}, maxit=1000)\n",
    "    plot_gp_mean(gp, Xgrid, X, ymean, ystd, title=f'TS Iteration {i}')\n",
    "    i += 1\n"
   ]
  },
  {
   "cell_type": "markdown",
   "metadata": {},
   "source": [
    "#### Close DB"
   ]
  },
  {
   "cell_type": "code",
   "execution_count": null,
   "metadata": {},
   "outputs": [],
   "source": [
    "if task_queue is not None:\n",
    "    task_queue.close()\n",
    "if pool is not None:\n",
    "    pool.cancel()\n",
    "if db_started:\n",
    "    db_tools.stop_db(params['db_path'])"
   ]
  }
 ],
 "metadata": {
  "kernelspec": {
   "display_name": "emews-py3.10",
   "language": "python",
   "name": "python3"
  },
  "language_info": {
   "codemirror_mode": {
    "name": "ipython",
    "version": 3
   },
   "file_extension": ".py",
   "mimetype": "text/x-python",
   "name": "python",
   "nbconvert_exporter": "python",
   "pygments_lexer": "ipython3",
   "version": "3.10.13"
  }
 },
 "nbformat": 4,
 "nbformat_minor": 4
}
